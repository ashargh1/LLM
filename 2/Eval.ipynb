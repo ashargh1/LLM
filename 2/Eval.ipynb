{
 "cells": [
  {
   "cell_type": "code",
   "execution_count": null,
   "id": "e72984a9-9cba-48b5-80b6-a75480d80b01",
   "metadata": {},
   "outputs": [],
   "source": [
    "#Note: This code plots Figure 2(a) of the manuscript\n",
    "\n",
    "import numpy as np\n",
    "import matplotlib.pyplot as plt\n",
    "B=np.load(\"CNN_Accuracy.npy\")\n",
    "A=np.zeros([np.shape(B)[0],4])\n",
    "C=np.zeros([np.shape(B)[0],4])\n",
    "kfold=10\n",
    "\n",
    "for i in range(np.shape(B)[0]):\n",
    "    A[i][0]=i\n",
    "    A[i][1]=np.mean(B[i,0:3*kfold:3])\n",
    "    A[i][2]=np.mean(B[i,1:3*kfold:3])\n",
    "    A[i][3]=np.mean(B[i,2:3*kfold:3])\n",
    "    \n",
    "    C[i][0]=i\n",
    "    C[i][1]=np.std(B[i,0:3*kfold:3])\n",
    "    C[i][2]=np.std(B[i,1:3*kfold:3])\n",
    "    C[i][3]=np.std(B[i,2:3*kfold:3])\n",
    "plt.figure(figsize=(6, 4))        \n",
    "plt.plot(A[:,[0]],A[:,[1]],color='black')\n",
    "plt.fill_between(A[:,0], A[:,1] - C[:,1], A[:,1] + C[:,1], color='gray', alpha=0.5, label='_nolegend_') \n",
    "plt.plot(A[:,[0]],A[:,[2]],color='red')\n",
    "plt.fill_between(A[:,0], A[:,2] - C[:,2], A[:,2] + C[:,2], color='gray', alpha=0.5, label='_nolegend_') \n",
    "plt.xlabel('Epoch',fontsize=20, fontname='Times New Roman')\n",
    "plt.ylabel('Root mean square error',fontsize=20, fontname='Times New Roman')\n",
    "plt.legend(['Training','Validation'],loc='upper right', fontsize=15, frameon=True)\n",
    "plt.xticks([0,300,600,900,1200,1500],fontsize=20, fontname='Times New Roman')\n",
    "print(\"Avg=\",A[np.argmin(A[:,2]),1],A[np.argmin(A[:,2]),2],A[np.argmin(A[:,2]),3]) \n",
    "print(\"SD=\",C[np.argmin(A[:,2]),1],C[np.argmin(A[:,2]),2],C[np.argmin(A[:,2]),3])\n",
    "print('Best Epoch number is=',np.argmin(A[:,2]))\n",
    "plt.yscale('log')\n",
    "plt.ylim([2e-4,10e-3])\n",
    "plt.yticks([1e-3,10e-3],fontsize=20, fontname='Times New Roman') \n",
    "plt.tight_layout()\n",
    "plt.savefig('figure.png', dpi=600)"
   ]
  }
 ],
 "metadata": {
  "kernelspec": {
   "display_name": "ASharghEnv",
   "language": "python",
   "name": "asharghenv"
  },
  "language_info": {
   "codemirror_mode": {
    "name": "ipython",
    "version": 3
   },
   "file_extension": ".py",
   "mimetype": "text/x-python",
   "name": "python",
   "nbconvert_exporter": "python",
   "pygments_lexer": "ipython3",
   "version": "3.8.6"
  }
 },
 "nbformat": 4,
 "nbformat_minor": 5
}
