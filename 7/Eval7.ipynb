{
 "cells": [
  {
   "cell_type": "code",
   "execution_count": null,
   "id": "fa0550b5-0d8c-4a5b-ad62-6efabd6cb7de",
   "metadata": {},
   "outputs": [],
   "source": [
    "#Note: This code obtain the feature importance and plot Figure 6(a) of the mansucript.\n",
    "\n",
    "from sklearn.ensemble import RandomForestClassifier\n",
    "from sklearn.feature_selection import SelectFromModel\n",
    "from sklearn.model_selection import train_test_split\n",
    "from sklearn.svm import SVC\n",
    "from sklearn.metrics import accuracy_score\n",
    "import numpy as np\n",
    "from sklearn.metrics import confusion_matrix\n",
    "from sklearn.metrics import f1_score\n",
    "from sklearn.metrics import confusion_matrix\n",
    "import joblib\n",
    "\n",
    "\n",
    "X=np.load('xlo.npy')[:,:] \n",
    "y=np.load('ylo1.npy') #ylo1.npy is binarized version of ylo.npy\n",
    "X_train, X_test, y_train, y_test = train_test_split(X, y, test_size=0.1, random_state=42)\n",
    "rf = RandomForestClassifier(n_estimators=100, random_state=42)\n",
    "\n",
    "rf.fit(X_train, y_train)\n",
    "#joblib.dump(rf, 'rf_model.joblib')\n",
    "\n",
    "\n",
    "X_test_unseen=np.load('xlo_test.npy')[:,:]\n",
    "y_test_unseen=np.load('ylo_test1.npy')[:]\n",
    "y_pred_unseen=rf.predict(X_test_unseen)\n",
    "f1 = f1_score(y_test_unseen, y_pred_unseen, average=None)\n",
    "print(f\"Class 0 F1 Score for testing data: {f1[0]:.4f}\") \n",
    "print(f\"Class 1 F1 Score for testing data:{f1[1]:.4f}\") "
   ]
  }
 ],
 "metadata": {
  "kernelspec": {
   "display_name": "ASharghEnv",
   "language": "python",
   "name": "asharghenv"
  },
  "language_info": {
   "codemirror_mode": {
    "name": "ipython",
    "version": 3
   },
   "file_extension": ".py",
   "mimetype": "text/x-python",
   "name": "python",
   "nbconvert_exporter": "python",
   "pygments_lexer": "ipython3",
   "version": "3.8.6"
  }
 },
 "nbformat": 4,
 "nbformat_minor": 5
}
