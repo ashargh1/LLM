{
 "cells": [
  {
   "cell_type": "code",
   "execution_count": null,
   "id": "fa0550b5-0d8c-4a5b-ad62-6efabd6cb7de",
   "metadata": {},
   "outputs": [],
   "source": [
    "from sklearn.ensemble import RandomForestClassifier\n",
    "from sklearn.feature_selection import SelectFromModel\n",
    "from sklearn.model_selection import train_test_split\n",
    "from sklearn.svm import SVC\n",
    "from sklearn.metrics import accuracy_score\n",
    "import numpy as np\n",
    "from sklearn.metrics import confusion_matrix\n",
    "from sklearn.metrics import f1_score\n",
    "from sklearn.metrics import confusion_matrix\n",
    "import joblib\n",
    "\n",
    "X=np.load('xlo.npy')[:,[9,6,34,8,3,20,15,14,5,1,21,12,26,4,11,13,10,7,2,23,0]] \n",
    "y=np.load('ylo1.npy')[:]\n",
    "X_test1=np.load('xlo_test.npy')[:,[9,6,34,8,3,20,15,14,5,1,21,12,26,4,11,13,10,7,2,23,0]] \n",
    "y_test1=np.load('ylo_test1.npy')[:]\n",
    "X_train, X_test, y_train, y_test = train_test_split(X, y, test_size=0.1, random_state=42)\n",
    "\n",
    "\n",
    "X_train_selected = X_train[:, :]\n",
    "X_test_selected = X_test[:, :]\n",
    "svm = SVC(kernel='linear', C=100, class_weight='balanced', random_state=42)\n",
    "#svm.fit(X_train_selected, y_train)\n",
    "#joblib.dump(svm, 'svm_model.joblib')\n",
    "svm = joblib.load('svm_model.joblib')\n",
    "\n",
    "accuracy = svm.score(X_test_selected, y_test)\n",
    "y_pred = svm.predict(X_test_selected)\n",
    "f1 = f1_score(y_test, y_pred, average=None)\n",
    "y_pred1 = svm.predict(X_test1)\n",
    "\n",
    "cm = confusion_matrix(y_test1, y_pred1, labels=[0, 1])\n",
    "tn, fp, fn, tp = cm.ravel()\n",
    "print(f\"True Positives (TP): {tp}\")\n",
    "print(f\"False Positives (FP): {fp}\")\n",
    "print(f\"False Negatives (FN): {fn}\")\n",
    "print(f\"True Negatives (TN): {tn}\")"
   ]
  }
 ],
 "metadata": {
  "kernelspec": {
   "display_name": "ASharghEnv",
   "language": "python",
   "name": "asharghenv"
  },
  "language_info": {
   "codemirror_mode": {
    "name": "ipython",
    "version": 3
   },
   "file_extension": ".py",
   "mimetype": "text/x-python",
   "name": "python",
   "nbconvert_exporter": "python",
   "pygments_lexer": "ipython3",
   "version": "3.8.6"
  }
 },
 "nbformat": 4,
 "nbformat_minor": 5
}
