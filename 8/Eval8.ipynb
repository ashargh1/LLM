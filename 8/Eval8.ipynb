{
 "cells": [
  {
   "cell_type": "code",
   "execution_count": null,
   "id": "fa0550b5-0d8c-4a5b-ad62-6efabd6cb7de",
   "metadata": {},
   "outputs": [],
   "source": [
    "#Note: This code obtain the feature importance and plot Figure 6(a) of the mansucript.\n",
    "\n",
    "from sklearn.ensemble import RandomForestClassifier\n",
    "from sklearn.feature_selection import SelectFromModel\n",
    "from sklearn.model_selection import train_test_split\n",
    "from sklearn.svm import SVC\n",
    "from sklearn.metrics import accuracy_score\n",
    "import numpy as np\n",
    "from sklearn.metrics import confusion_matrix\n",
    "from sklearn.metrics import f1_score\n",
    "from sklearn.metrics import confusion_matrix\n",
    "import joblib\n",
    "\n",
    "\n",
    "X=np.load('xlo.npy')[:,:] \n",
    "y=np.load('ylo1.npy') #ylo1.npy is binarized version of ylo.npy\n",
    "X_train, X_test, y_train, y_test = train_test_split(X, y, test_size=0.1, random_state=42)\n",
    "rf = RandomForestClassifier(n_estimators=100, random_state=42)\n",
    "\n",
    "#rf = joblib.load('rf_model_Rockfish.joblib') #You can remove this and activate the following two lines to do the training\n",
    "rf.fit(X_train, y_train)\n",
    "#joblib.dump(rf, 'rf_model.joblib')\n",
    "\n",
    "importances = rf.feature_importances_\n",
    "indices = np.argsort(importances)[::-1]\n",
    "\n",
    "n = [7,9,38,40,45,48,49,39,25,26,29,47,34,35,41,46]\n",
    "feature_names = [\n",
    "    r\"$\\Delta S_{\\mathrm{mix}}$\", r\"$\\Delta H_{\\mathrm{mix}}$\", r\"$\\Omega$\", r\"$\\eta$\", r\"$K_1$\", r\"$\\phi$\", r\"$\\delta$\", r\"$E_2/E_0$\",\n",
    "    r\"$\\mathrm{VEC}$\", r\"$\\Delta \\chi$\", r\"$PFP_{\\mathrm{FCC}}$\", r\"$PFP_{\\mathrm{BCC}}$\", r\"$PFP_{\\mathrm{HCP}}$\", r\"$PFP_{\\mathrm{B2}}$\",\n",
    "    r\"$PFP_{\\mathrm{Laves}}$\", r\"$PFP_{\\mathrm{Sigma}}$\", r\"$\\mathrm{PSP}$\", r\"$\\sigma(\\Delta H_{\\mathrm{mix}})$\", r\"$\\mathrm{BulkModulus}$\",\n",
    "    r\"$\\sigma_{\\Delta H_{\\mathrm{mix}}}$\", r\"$T_m$\", r\"$\\sigma_{T_m}$\", r\"$\\sigma_{\\mathrm{VEC}}$\", r\"$\\Delta\\chi$\",\n",
    "    r\"$\\mathrm{Atomic\\ Number}$\", r\"$\\mathrm{Atomic\\ weight}$\", r\"$\\mathrm{Period}$\", r\"$\\mathrm{Group}$\", r\"$\\mathrm{Families}$\", r\"$\\mathrm{Mendeleev\\ Number}$\",\n",
    "    r\"$\\mathrm{Quantum\\ number\\ L}$\", r\"$\\mathrm{Miracle\\ radius}$\", r\"$\\mathrm{Covalent\\ radius}$\", r\"$\\mathrm{Zunger\\ radius}$\", r\"$\\mathrm{Ionic\\ radius}$\",\n",
    "    r\"$\\mathrm{Crystal\\ radius}$\", r\"$\\mathrm{MB\\ electronegativity}$\", r\"$\\mathrm{Gordy\\ electronegativity}$\", r\"$\\mathrm{Mulliken\\ electronegativity}$\",\n",
    "    r\"$\\mathrm{Allred{-}Rockow\\ electronegativity}$\", r\"$\\mathrm{First\\ ionization\\ potential}$\", r\"$\\mathrm{Polarizability}$\",\n",
    "    r\"$\\mathrm{Boiling\\ point}$\", r\"$\\mathrm{Density}$\", r\"$\\mathrm{Specific\\ heat}$\", r\"$\\mathrm{Heat\\ of\\ fusion}$\", r\"$\\mathrm{Heat\\ of\\ vaporization}$\",\n",
    "    r\"$\\mathrm{Thermal\\ conductivity}$\", r\"$\\mathrm{Heat\\ atomization}$\", r\"$\\mathrm{Cohesive\\ energy}$\", r\"$T$\"\n",
    "]\n",
    "feature_names = np.array(feature_names)\n",
    "feature_names = np.delete(feature_names, n)\n",
    "\n",
    "print([feature_names[indices[0]],feature_names[indices[1]],feature_names[indices[2]],feature_names[indices[3]],feature_names[indices[4]]])"
   ]
  }
 ],
 "metadata": {
  "kernelspec": {
   "display_name": "ASharghEnv",
   "language": "python",
   "name": "asharghenv"
  },
  "language_info": {
   "codemirror_mode": {
    "name": "ipython",
    "version": 3
   },
   "file_extension": ".py",
   "mimetype": "text/x-python",
   "name": "python",
   "nbconvert_exporter": "python",
   "pygments_lexer": "ipython3",
   "version": "3.8.6"
  }
 },
 "nbformat": 4,
 "nbformat_minor": 5
}
