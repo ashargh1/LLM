{
 "cells": [
  {
   "cell_type": "code",
   "execution_count": null,
   "id": "1ffcafa3-bdf4-4bc1-b7f2-9918181da5f1",
   "metadata": {},
   "outputs": [],
   "source": [
    "#Note: This code plots Figure 6(b) of the manusciprt.\n",
    "\n",
    "import numpy as np\n",
    "import matplotlib.pyplot as plt\n",
    "import seaborn as sns\n",
    "from sklearn.metrics import f1_score\n",
    "\n",
    "\n",
    "A=np.load('xlo_test.npy')\n",
    "B=np.load('ylo_test1.npy')\n",
    "\n",
    "n=0\n",
    "C=np.zeros([A.shape[0],1])\n",
    "for i in range(A.shape[0]):\n",
    "    Y=60.90+5.02*A[i,9]-31.96*A[i,6]-3.66*A[i,34]-60.86*A[i,8]-11.25*A[i,3]+15.03*A[i,20]-15.91*A[i,15]-5.36*A[i,14]+7.60*A[i,5]-19.64*A[i,1]-36.26*A[i,21]+23.32*A[i,12]-16.43*A[i,26]+1.64*A[i,4]-28.65*A[i,11]-1.97*A[i,13]-16.77*A[i,10]-1.38*A[i,7]+4.65*A[i,2]-1.16*A[i,23]+3.50*A[i,0] \n",
    "    #The parameters within Y are based on values of intercept and coefficients\n",
    "    C[i,0]=Y\n",
    "    \n",
    "for i in range(C.shape[0]):\n",
    "    if C[i]>=0:\n",
    "        C[i]=1\n",
    "    else:\n",
    "        C[i]=0\n",
    "        \n",
    "f1 = f1_score(B, C, average=None)\n",
    "print(f\"Class 0 F1 Score for testing data: {f1[0]:.4f}\") \n",
    "print(f\"Class 1 F1 Score for testing data:{f1[1]:.4f}\") "
   ]
  }
 ],
 "metadata": {
  "kernelspec": {
   "display_name": "ASharghEnv",
   "language": "python",
   "name": "asharghenv"
  },
  "language_info": {
   "codemirror_mode": {
    "name": "ipython",
    "version": 3
   },
   "file_extension": ".py",
   "mimetype": "text/x-python",
   "name": "python",
   "nbconvert_exporter": "python",
   "pygments_lexer": "ipython3",
   "version": "3.8.6"
  }
 },
 "nbformat": 4,
 "nbformat_minor": 5
}
